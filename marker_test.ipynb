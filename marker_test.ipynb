{
  "nbformat": 4,
  "nbformat_minor": 0,
  "metadata": {
    "colab": {
      "provenance": [],
      "gpuType": "T4",
      "authorship_tag": "ABX9TyM7bBSxDRjxYpGbrFTkeBp3",
      "include_colab_link": true
    },
    "kernelspec": {
      "name": "python3",
      "display_name": "Python 3"
    },
    "language_info": {
      "name": "python"
    },
    "accelerator": "GPU"
  },
  "cells": [
    {
      "cell_type": "markdown",
      "metadata": {
        "id": "view-in-github",
        "colab_type": "text"
      },
      "source": [
        "<a href=\"https://colab.research.google.com/github/taofiqsulayman/collab-playground/blob/main/marker_test.ipynb\" target=\"_parent\"><img src=\"https://colab.research.google.com/assets/colab-badge.svg\" alt=\"Open In Colab\"/></a>"
      ]
    },
    {
      "cell_type": "code",
      "execution_count": 4,
      "metadata": {
        "colab": {
          "base_uri": "https://localhost:8080/"
        },
        "collapsed": true,
        "id": "Pw4HWA7ojjxo",
        "outputId": "4424bd88-2c76-4412-ea8a-4e1439dffe21"
      },
      "outputs": [
        {
          "output_type": "stream",
          "name": "stdout",
          "text": [
            "Found existing installation: torchvision 0.18.1+cu121\n",
            "Uninstalling torchvision-0.18.1+cu121:\n",
            "  Would remove:\n",
            "    /usr/local/lib/python3.10/dist-packages/torchvision-0.18.1+cu121.dist-info/*\n",
            "    /usr/local/lib/python3.10/dist-packages/torchvision.libs/libcudart.7ec1eba6.so.12\n",
            "    /usr/local/lib/python3.10/dist-packages/torchvision.libs/libjpeg.ceea7512.so.62\n",
            "    /usr/local/lib/python3.10/dist-packages/torchvision.libs/libnvjpeg.f00ca762.so.12\n",
            "    /usr/local/lib/python3.10/dist-packages/torchvision.libs/libpng16.7f72a3c5.so.16\n",
            "    /usr/local/lib/python3.10/dist-packages/torchvision.libs/libz.4e87b236.so.1\n",
            "    /usr/local/lib/python3.10/dist-packages/torchvision/*\n",
            "Proceed (Y/n)? y\n",
            "  Successfully uninstalled torchvision-0.18.1+cu121\n",
            "Looking in indexes: https://download.pytorch.org/whl/cpu\n",
            "Requirement already satisfied: torch in /usr/local/lib/python3.10/dist-packages (2.3.1+cpu)\n",
            "Collecting torchvision\n",
            "  Downloading https://download.pytorch.org/whl/cpu/torchvision-0.19.0%2Bcpu-cp310-cp310-linux_x86_64.whl (1.6 MB)\n",
            "\u001b[2K     \u001b[90m━━━━━━━━━━━━━━━━━━━━━━━━━━━━━━━━━━━━━━━━\u001b[0m \u001b[32m1.6/1.6 MB\u001b[0m \u001b[31m31.2 MB/s\u001b[0m eta \u001b[36m0:00:00\u001b[0m\n",
            "\u001b[?25hRequirement already satisfied: torchaudio in /usr/local/lib/python3.10/dist-packages (2.3.1+cu121)\n",
            "Requirement already satisfied: filelock in /usr/local/lib/python3.10/dist-packages (from torch) (3.15.4)\n",
            "Requirement already satisfied: typing-extensions>=4.8.0 in /usr/local/lib/python3.10/dist-packages (from torch) (4.12.2)\n",
            "Requirement already satisfied: sympy in /usr/local/lib/python3.10/dist-packages (from torch) (1.13.1)\n",
            "Requirement already satisfied: networkx in /usr/local/lib/python3.10/dist-packages (from torch) (3.3)\n",
            "Requirement already satisfied: jinja2 in /usr/local/lib/python3.10/dist-packages (from torch) (3.1.4)\n",
            "Requirement already satisfied: fsspec in /usr/local/lib/python3.10/dist-packages (from torch) (2024.6.1)\n",
            "Requirement already satisfied: numpy in /usr/local/lib/python3.10/dist-packages (from torchvision) (1.26.4)\n",
            "Collecting torch\n",
            "  Using cached https://download.pytorch.org/whl/cpu/torch-2.4.0%2Bcpu-cp310-cp310-linux_x86_64.whl (195.0 MB)\n",
            "Requirement already satisfied: pillow!=8.3.*,>=5.3.0 in /usr/local/lib/python3.10/dist-packages (from torchvision) (10.4.0)\n",
            "INFO: pip is looking at multiple versions of torchaudio to determine which version is compatible with other requirements. This could take a while.\n",
            "Collecting torchaudio\n",
            "  Downloading https://download.pytorch.org/whl/cpu/torchaudio-2.4.0%2Bcpu-cp310-cp310-linux_x86_64.whl (1.7 MB)\n",
            "\u001b[2K     \u001b[90m━━━━━━━━━━━━━━━━━━━━━━━━━━━━━━━━━━━━━━━━\u001b[0m \u001b[32m1.7/1.7 MB\u001b[0m \u001b[31m2.9 MB/s\u001b[0m eta \u001b[36m0:00:00\u001b[0m\n",
            "\u001b[?25hRequirement already satisfied: MarkupSafe>=2.0 in /usr/local/lib/python3.10/dist-packages (from jinja2->torch) (2.1.5)\n",
            "Requirement already satisfied: mpmath<1.4,>=1.1.0 in /usr/local/lib/python3.10/dist-packages (from sympy->torch) (1.3.0)\n",
            "Installing collected packages: torch, torchvision, torchaudio\n",
            "  Attempting uninstall: torch\n",
            "    Found existing installation: torch 2.3.1+cpu\n",
            "    Uninstalling torch-2.3.1+cpu:\n",
            "      Successfully uninstalled torch-2.3.1+cpu\n",
            "  Attempting uninstall: torchaudio\n",
            "    Found existing installation: torchaudio 2.3.1+cu121\n",
            "    Uninstalling torchaudio-2.3.1+cu121:\n",
            "      Successfully uninstalled torchaudio-2.3.1+cu121\n",
            "Successfully installed torch-2.4.0+cpu torchaudio-2.4.0+cpu torchvision-0.19.0+cpu\n",
            "Requirement already satisfied: marker-pdf in /usr/local/lib/python3.10/dist-packages (0.2.16)\n",
            "Requirement already satisfied: Pillow<11.0.0,>=10.1.0 in /usr/local/lib/python3.10/dist-packages (from marker-pdf) (10.4.0)\n",
            "Requirement already satisfied: filetype<2.0.0,>=1.2.0 in /usr/local/lib/python3.10/dist-packages (from marker-pdf) (1.2.0)\n",
            "Requirement already satisfied: ftfy<7.0.0,>=6.1.1 in /usr/local/lib/python3.10/dist-packages (from marker-pdf) (6.2.3)\n",
            "Requirement already satisfied: grpcio<2.0.0,>=1.63.0 in /usr/local/lib/python3.10/dist-packages (from marker-pdf) (1.64.1)\n",
            "Requirement already satisfied: numpy<2.0.0,>=1.26.1 in /usr/local/lib/python3.10/dist-packages (from marker-pdf) (1.26.4)\n",
            "Requirement already satisfied: pdftext<0.4.0,>=0.3.10 in /usr/local/lib/python3.10/dist-packages (from marker-pdf) (0.3.10)\n",
            "Requirement already satisfied: pydantic<3.0.0,>=2.4.2 in /usr/local/lib/python3.10/dist-packages (from marker-pdf) (2.8.2)\n",
            "Requirement already satisfied: pydantic-settings<3.0.0,>=2.0.3 in /usr/local/lib/python3.10/dist-packages (from marker-pdf) (2.4.0)\n",
            "Requirement already satisfied: python-dotenv<2.0.0,>=1.0.0 in /usr/local/lib/python3.10/dist-packages (from marker-pdf) (1.0.1)\n",
            "Requirement already satisfied: rapidfuzz<4.0.0,>=3.8.1 in /usr/local/lib/python3.10/dist-packages (from marker-pdf) (3.9.6)\n",
            "Requirement already satisfied: regex<2025.0.0,>=2024.4.28 in /usr/local/lib/python3.10/dist-packages (from marker-pdf) (2024.5.15)\n",
            "Requirement already satisfied: scikit-learn<=1.4.2,>=1.3.2 in /usr/local/lib/python3.10/dist-packages (from marker-pdf) (1.4.2)\n",
            "Requirement already satisfied: surya-ocr<0.5.0,>=0.4.15 in /usr/local/lib/python3.10/dist-packages (from marker-pdf) (0.4.15)\n",
            "Requirement already satisfied: tabulate<0.10.0,>=0.9.0 in /usr/local/lib/python3.10/dist-packages (from marker-pdf) (0.9.0)\n",
            "Requirement already satisfied: texify<0.2.0,>=0.1.10 in /usr/local/lib/python3.10/dist-packages (from marker-pdf) (0.1.10)\n",
            "Requirement already satisfied: torch<3.0.0,>=2.2.2 in /usr/local/lib/python3.10/dist-packages (from marker-pdf) (2.4.0+cpu)\n",
            "Requirement already satisfied: tqdm<5.0.0,>=4.66.1 in /usr/local/lib/python3.10/dist-packages (from marker-pdf) (4.66.5)\n",
            "Requirement already satisfied: transformers<5.0.0,>=4.36.2 in /usr/local/lib/python3.10/dist-packages (from marker-pdf) (4.42.4)\n",
            "Requirement already satisfied: wcwidth<0.3.0,>=0.2.12 in /usr/local/lib/python3.10/dist-packages (from ftfy<7.0.0,>=6.1.1->marker-pdf) (0.2.13)\n",
            "Requirement already satisfied: pypdfium2<5.0.0,>=4.29.0 in /usr/local/lib/python3.10/dist-packages (from pdftext<0.4.0,>=0.3.10->marker-pdf) (4.30.0)\n",
            "Requirement already satisfied: annotated-types>=0.4.0 in /usr/local/lib/python3.10/dist-packages (from pydantic<3.0.0,>=2.4.2->marker-pdf) (0.7.0)\n",
            "Requirement already satisfied: pydantic-core==2.20.1 in /usr/local/lib/python3.10/dist-packages (from pydantic<3.0.0,>=2.4.2->marker-pdf) (2.20.1)\n",
            "Requirement already satisfied: typing-extensions>=4.6.1 in /usr/local/lib/python3.10/dist-packages (from pydantic<3.0.0,>=2.4.2->marker-pdf) (4.12.2)\n",
            "Requirement already satisfied: scipy>=1.6.0 in /usr/local/lib/python3.10/dist-packages (from scikit-learn<=1.4.2,>=1.3.2->marker-pdf) (1.13.1)\n",
            "Requirement already satisfied: joblib>=1.2.0 in /usr/local/lib/python3.10/dist-packages (from scikit-learn<=1.4.2,>=1.3.2->marker-pdf) (1.4.2)\n",
            "Requirement already satisfied: threadpoolctl>=2.0.0 in /usr/local/lib/python3.10/dist-packages (from scikit-learn<=1.4.2,>=1.3.2->marker-pdf) (3.5.0)\n",
            "Requirement already satisfied: opencv-python<5.0.0.0,>=4.9.0.80 in /usr/local/lib/python3.10/dist-packages (from surya-ocr<0.5.0,>=0.4.15->marker-pdf) (4.10.0.84)\n",
            "Requirement already satisfied: filelock in /usr/local/lib/python3.10/dist-packages (from torch<3.0.0,>=2.2.2->marker-pdf) (3.15.4)\n",
            "Requirement already satisfied: sympy in /usr/local/lib/python3.10/dist-packages (from torch<3.0.0,>=2.2.2->marker-pdf) (1.13.1)\n",
            "Requirement already satisfied: networkx in /usr/local/lib/python3.10/dist-packages (from torch<3.0.0,>=2.2.2->marker-pdf) (3.3)\n",
            "Requirement already satisfied: jinja2 in /usr/local/lib/python3.10/dist-packages (from torch<3.0.0,>=2.2.2->marker-pdf) (3.1.4)\n",
            "Requirement already satisfied: fsspec in /usr/local/lib/python3.10/dist-packages (from torch<3.0.0,>=2.2.2->marker-pdf) (2024.6.1)\n",
            "Requirement already satisfied: huggingface-hub<1.0,>=0.23.2 in /usr/local/lib/python3.10/dist-packages (from transformers<5.0.0,>=4.36.2->marker-pdf) (0.23.5)\n",
            "Requirement already satisfied: packaging>=20.0 in /usr/local/lib/python3.10/dist-packages (from transformers<5.0.0,>=4.36.2->marker-pdf) (24.1)\n",
            "Requirement already satisfied: pyyaml>=5.1 in /usr/local/lib/python3.10/dist-packages (from transformers<5.0.0,>=4.36.2->marker-pdf) (6.0.2)\n",
            "Requirement already satisfied: requests in /usr/local/lib/python3.10/dist-packages (from transformers<5.0.0,>=4.36.2->marker-pdf) (2.32.3)\n",
            "Requirement already satisfied: safetensors>=0.4.1 in /usr/local/lib/python3.10/dist-packages (from transformers<5.0.0,>=4.36.2->marker-pdf) (0.4.4)\n",
            "Requirement already satisfied: tokenizers<0.20,>=0.19 in /usr/local/lib/python3.10/dist-packages (from transformers<5.0.0,>=4.36.2->marker-pdf) (0.19.1)\n",
            "Requirement already satisfied: MarkupSafe>=2.0 in /usr/local/lib/python3.10/dist-packages (from jinja2->torch<3.0.0,>=2.2.2->marker-pdf) (2.1.5)\n",
            "Requirement already satisfied: charset-normalizer<4,>=2 in /usr/local/lib/python3.10/dist-packages (from requests->transformers<5.0.0,>=4.36.2->marker-pdf) (3.3.2)\n",
            "Requirement already satisfied: idna<4,>=2.5 in /usr/local/lib/python3.10/dist-packages (from requests->transformers<5.0.0,>=4.36.2->marker-pdf) (3.7)\n",
            "Requirement already satisfied: urllib3<3,>=1.21.1 in /usr/local/lib/python3.10/dist-packages (from requests->transformers<5.0.0,>=4.36.2->marker-pdf) (2.0.7)\n",
            "Requirement already satisfied: certifi>=2017.4.17 in /usr/local/lib/python3.10/dist-packages (from requests->transformers<5.0.0,>=4.36.2->marker-pdf) (2024.7.4)\n",
            "Requirement already satisfied: mpmath<1.4,>=1.1.0 in /usr/local/lib/python3.10/dist-packages (from sympy->torch<3.0.0,>=2.2.2->marker-pdf) (1.3.0)\n"
          ]
        }
      ],
      "source": [
        "!pip uninstall torchvision\n",
        "# For CPU instance\n",
        "!pip3 install torch torchvision torchaudio --index-url https://download.pytorch.org/whl/cpu\n",
        "# For GPU instance\n",
        "# !pip3 install torchvision torchaudio --index-url https://download.pytorch.org/whl/cu118\n",
        "!pip install marker-pdf\n"
      ]
    },
    {
      "cell_type": "code",
      "source": [
        "!marker_single ./RSScanned.pdf ./ --batch_multiplier 2 --langs English"
      ],
      "metadata": {
        "id": "Fdi71VhVXmkr",
        "outputId": "c1bbcc01-d107-4479-c000-0c1ae58414f8",
        "colab": {
          "base_uri": "https://localhost:8080/"
        }
      },
      "execution_count": 6,
      "outputs": [
        {
          "output_type": "stream",
          "name": "stdout",
          "text": [
            "2024-08-18 16:46:49.524011: E external/local_xla/xla/stream_executor/cuda/cuda_fft.cc:485] Unable to register cuFFT factory: Attempting to register factory for plugin cuFFT when one has already been registered\n",
            "2024-08-18 16:46:49.566439: E external/local_xla/xla/stream_executor/cuda/cuda_dnn.cc:8454] Unable to register cuDNN factory: Attempting to register factory for plugin cuDNN when one has already been registered\n",
            "2024-08-18 16:46:49.578291: E external/local_xla/xla/stream_executor/cuda/cuda_blas.cc:1452] Unable to register cuBLAS factory: Attempting to register factory for plugin cuBLAS when one has already been registered\n",
            "2024-08-18 16:46:49.617709: I tensorflow/core/platform/cpu_feature_guard.cc:210] This TensorFlow binary is optimized to use available CPU instructions in performance-critical operations.\n",
            "To enable the following instructions: AVX2 FMA, in other operations, rebuild TensorFlow with the appropriate compiler flags.\n",
            "2024-08-18 16:46:52.276973: W tensorflow/compiler/tf2tensorrt/utils/py_utils.cc:38] TF-TRT Warning: Could not find TensorRT\n",
            "Loaded detection model vikp/surya_det3 on device cpu with dtype torch.float32\n",
            "Loaded detection model vikp/surya_layout3 on device cpu with dtype torch.float32\n",
            "Loaded reading order model vikp/surya_order on device cpu with dtype torch.float32\n",
            "Loaded recognition model vikp/surya_rec on device cpu with dtype torch.float32\n",
            "Loaded texify model to cpu with torch.float32 dtype\n",
            "Detecting bboxes: 100% 1/1 [00:12<00:00, 12.10s/it]\n",
            "Recognizing Text: 100% 2/2 [05:48<00:00, 174.21s/it]\n",
            "Detecting bboxes: 100% 1/1 [00:07<00:00,  7.55s/it]\n",
            "Finding reading order: 100% 1/1 [00:16<00:00, 16.50s/it]\n",
            "Saved markdown to the ./RSScanned folder\n"
          ]
        }
      ]
    },
    {
      "cell_type": "code",
      "source": [
        "!marker_single ./national-capitals.pdf ./ --batch_multiplier 2 --langs English"
      ],
      "metadata": {
        "id": "KooFJTQJaV2t",
        "outputId": "264ae0a3-ca4f-4655-f9cd-6548be18def5",
        "colab": {
          "base_uri": "https://localhost:8080/"
        }
      },
      "execution_count": 7,
      "outputs": [
        {
          "output_type": "stream",
          "name": "stdout",
          "text": [
            "2024-08-18 16:56:15.798880: E external/local_xla/xla/stream_executor/cuda/cuda_fft.cc:485] Unable to register cuFFT factory: Attempting to register factory for plugin cuFFT when one has already been registered\n",
            "2024-08-18 16:56:15.833582: E external/local_xla/xla/stream_executor/cuda/cuda_dnn.cc:8454] Unable to register cuDNN factory: Attempting to register factory for plugin cuDNN when one has already been registered\n",
            "2024-08-18 16:56:15.843705: E external/local_xla/xla/stream_executor/cuda/cuda_blas.cc:1452] Unable to register cuBLAS factory: Attempting to register factory for plugin cuBLAS when one has already been registered\n",
            "2024-08-18 16:56:15.881949: I tensorflow/core/platform/cpu_feature_guard.cc:210] This TensorFlow binary is optimized to use available CPU instructions in performance-critical operations.\n",
            "To enable the following instructions: AVX2 FMA, in other operations, rebuild TensorFlow with the appropriate compiler flags.\n",
            "2024-08-18 16:56:18.150228: W tensorflow/compiler/tf2tensorrt/utils/py_utils.cc:38] TF-TRT Warning: Could not find TensorRT\n",
            "Loaded detection model vikp/surya_det3 on device cpu with dtype torch.float32\n",
            "Loaded detection model vikp/surya_layout3 on device cpu with dtype torch.float32\n",
            "Loaded reading order model vikp/surya_order on device cpu with dtype torch.float32\n",
            "Loaded recognition model vikp/surya_rec on device cpu with dtype torch.float32\n",
            "Loaded texify model to cpu with torch.float32 dtype\n",
            "Detecting bboxes: 100% 1/1 [01:07<00:00, 67.19s/it]\n",
            "/usr/lib/python3.10/multiprocessing/popen_fork.py:66: RuntimeWarning: os.fork() was called. os.fork() is incompatible with multithreaded code, and JAX is multithreaded, so this will likely lead to a deadlock.\n",
            "  self.pid = os.fork()\n",
            "Detecting bboxes: 100% 1/1 [00:56<00:00, 56.02s/it]\n",
            "Finding reading order: 100% 1/1 [01:50<00:00, 110.17s/it]\n",
            "Saved markdown to the ./national-capitals folder\n"
          ]
        }
      ]
    },
    {
      "cell_type": "code",
      "source": [
        "!marker_single ./MA038-EconoTaq-PLUS.pdf ./ --batch_multiplier 2 --langs English"
      ],
      "metadata": {
        "id": "fCztq1gCcxz_",
        "outputId": "bc3180b8-7573-45b7-c5ef-c6ee3696d1a6",
        "colab": {
          "base_uri": "https://localhost:8080/"
        }
      },
      "execution_count": 8,
      "outputs": [
        {
          "output_type": "stream",
          "name": "stdout",
          "text": [
            "2024-08-18 17:06:02.963498: E external/local_xla/xla/stream_executor/cuda/cuda_fft.cc:485] Unable to register cuFFT factory: Attempting to register factory for plugin cuFFT when one has already been registered\n",
            "2024-08-18 17:06:03.002864: E external/local_xla/xla/stream_executor/cuda/cuda_dnn.cc:8454] Unable to register cuDNN factory: Attempting to register factory for plugin cuDNN when one has already been registered\n",
            "2024-08-18 17:06:03.014677: E external/local_xla/xla/stream_executor/cuda/cuda_blas.cc:1452] Unable to register cuBLAS factory: Attempting to register factory for plugin cuBLAS when one has already been registered\n",
            "2024-08-18 17:06:03.040482: I tensorflow/core/platform/cpu_feature_guard.cc:210] This TensorFlow binary is optimized to use available CPU instructions in performance-critical operations.\n",
            "To enable the following instructions: AVX2 FMA, in other operations, rebuild TensorFlow with the appropriate compiler flags.\n",
            "2024-08-18 17:06:05.464723: W tensorflow/compiler/tf2tensorrt/utils/py_utils.cc:38] TF-TRT Warning: Could not find TensorRT\n",
            "Loaded detection model vikp/surya_det3 on device cpu with dtype torch.float32\n",
            "Loaded detection model vikp/surya_layout3 on device cpu with dtype torch.float32\n",
            "Loaded reading order model vikp/surya_order on device cpu with dtype torch.float32\n",
            "Loaded recognition model vikp/surya_rec on device cpu with dtype torch.float32\n",
            "Loaded texify model to cpu with torch.float32 dtype\n",
            "Detecting bboxes: 100% 1/1 [00:56<00:00, 56.75s/it]\n",
            "/usr/lib/python3.10/multiprocessing/popen_fork.py:66: RuntimeWarning: os.fork() was called. os.fork() is incompatible with multithreaded code, and JAX is multithreaded, so this will likely lead to a deadlock.\n",
            "  self.pid = os.fork()\n",
            "Detecting bboxes: 100% 1/1 [00:40<00:00, 40.32s/it]\n",
            "Finding reading order: 100% 1/1 [01:42<00:00, 102.18s/it]\n",
            "Saved markdown to the ./MA038-EconoTaq-PLUS folder\n"
          ]
        }
      ]
    },
    {
      "cell_type": "code",
      "source": [
        "!marker ./ ./ --workers 2"
      ],
      "metadata": {
        "id": "MjHFCX7fehiE",
        "outputId": "794c5d78-b76c-4d9f-9b3d-9c932b257f4f",
        "colab": {
          "base_uri": "https://localhost:8080/"
        }
      },
      "execution_count": 5,
      "outputs": [
        {
          "output_type": "stream",
          "name": "stdout",
          "text": [
            "2024-08-18 20:58:12.293614: E external/local_xla/xla/stream_executor/cuda/cuda_fft.cc:485] Unable to register cuFFT factory: Attempting to register factory for plugin cuFFT when one has already been registered\n",
            "2024-08-18 20:58:12.320692: E external/local_xla/xla/stream_executor/cuda/cuda_dnn.cc:8454] Unable to register cuDNN factory: Attempting to register factory for plugin cuDNN when one has already been registered\n",
            "2024-08-18 20:58:12.328903: E external/local_xla/xla/stream_executor/cuda/cuda_blas.cc:1452] Unable to register cuBLAS factory: Attempting to register factory for plugin cuBLAS when one has already been registered\n",
            "2024-08-18 20:58:12.352589: I tensorflow/core/platform/cpu_feature_guard.cc:210] This TensorFlow binary is optimized to use available CPU instructions in performance-critical operations.\n",
            "To enable the following instructions: AVX2 FMA, in other operations, rebuild TensorFlow with the appropriate compiler flags.\n",
            "2024-08-18 20:58:13.892732: W tensorflow/compiler/tf2tensorrt/utils/py_utils.cc:38] TF-TRT Warning: Could not find TensorRT\n",
            "config.json: 100% 811/811 [00:00<00:00, 2.85MB/s]\n",
            "model.safetensors: 100% 154M/154M [00:01<00:00, 135MB/s]\n",
            "Loaded detection model vikp/surya_det3 on device cpu with dtype torch.float32\n",
            "preprocessor_config.json: 100% 675/675 [00:00<00:00, 3.74MB/s]\n",
            "config.json: 100% 1.32k/1.32k [00:00<00:00, 7.60MB/s]\n",
            "model.safetensors: 100% 154M/154M [00:00<00:00, 173MB/s]\n",
            "Loaded detection model vikp/surya_layout3 on device cpu with dtype torch.float32\n",
            "preprocessor_config.json: 100% 373/373 [00:00<00:00, 1.83MB/s]\n",
            "config.json: 100% 5.04k/5.04k [00:00<00:00, 15.4MB/s]\n",
            "model.safetensors: 100% 550M/550M [00:05<00:00, 96.5MB/s]\n",
            "generation_config.json: 100% 160/160 [00:00<00:00, 945kB/s]\n",
            "Loaded reading order model vikp/surya_order on device cpu with dtype torch.float32\n",
            "preprocessor_config.json: 100% 684/684 [00:00<00:00, 3.51MB/s]\n",
            "config.json: 100% 6.91k/6.91k [00:00<00:00, 26.9MB/s]\n",
            "model.safetensors: 100% 1.05G/1.05G [00:08<00:00, 120MB/s]\n",
            "generation_config.json: 100% 181/181 [00:00<00:00, 927kB/s]\n",
            "Loaded recognition model vikp/surya_rec on device cpu with dtype torch.float32\n",
            "preprocessor_config.json: 100% 608/608 [00:00<00:00, 2.91MB/s]\n",
            "config.json: 100% 4.92k/4.92k [00:00<00:00, 19.5MB/s]\n",
            "model.safetensors: 100% 625M/625M [00:04<00:00, 145MB/s]\n",
            "generation_config.json: 100% 191/191 [00:00<00:00, 976kB/s]\n",
            "Loaded texify model to cpu with torch.float32 dtype\n",
            "preprocessor_config.json: 100% 617/617 [00:00<00:00, 3.41MB/s]\n",
            "tokenizer_config.json: 100% 4.49k/4.49k [00:00<00:00, 17.4MB/s]\n",
            "tokenizer.json: 100% 2.14M/2.14M [00:00<00:00, 6.74MB/s]\n",
            "added_tokens.json: 100% 18.3k/18.3k [00:00<00:00, 56.1MB/s]\n",
            "special_tokens_map.json: 100% 552/552 [00:00<00:00, 2.74MB/s]\n",
            "Converting 2 pdfs in chunk 1/1 with 2 processes, and storing in /content\n",
            "2024-08-18 20:59:22.742335: E external/local_xla/xla/stream_executor/cuda/cuda_fft.cc:485] Unable to register cuFFT factory: Attempting to register factory for plugin cuFFT when one has already been registered\n",
            "2024-08-18 20:59:22.767710: E external/local_xla/xla/stream_executor/cuda/cuda_dnn.cc:8454] Unable to register cuDNN factory: Attempting to register factory for plugin cuDNN when one has already been registered\n",
            "2024-08-18 20:59:22.774853: E external/local_xla/xla/stream_executor/cuda/cuda_blas.cc:1452] Unable to register cuBLAS factory: Attempting to register factory for plugin cuBLAS when one has already been registered\n",
            "2024-08-18 20:59:24.450661: W tensorflow/compiler/tf2tensorrt/utils/py_utils.cc:38] TF-TRT Warning: Could not find TensorRT\n",
            "2024-08-18 20:59:34.965591: E external/local_xla/xla/stream_executor/cuda/cuda_fft.cc:485] Unable to register cuFFT factory: Attempting to register factory for plugin cuFFT when one has already been registered\n",
            "2024-08-18 20:59:34.990914: E external/local_xla/xla/stream_executor/cuda/cuda_dnn.cc:8454] Unable to register cuDNN factory: Attempting to register factory for plugin cuDNN when one has already been registered\n",
            "2024-08-18 20:59:34.998321: E external/local_xla/xla/stream_executor/cuda/cuda_blas.cc:1452] Unable to register cuBLAS factory: Attempting to register factory for plugin cuBLAS when one has already been registered\n",
            "2024-08-18 20:59:36.635147: W tensorflow/compiler/tf2tensorrt/utils/py_utils.cc:38] TF-TRT Warning: Could not find TensorRT\n",
            "Detecting bboxes: 100% 1/1 [00:21<00:00, 21.35s/it]\n",
            "Detecting bboxes: 100% 1/1 [00:15<00:00, 15.55s/it]\n",
            "Detecting bboxes: 100% 1/1 [00:41<00:00, 41.28s/it]\n",
            "Finding reading order: 100% 1/1 [00:26<00:00, 26.87s/it]\n",
            "Detecting bboxes: 100% 1/1 [00:24<00:00, 24.88s/it]\n",
            "Finding reading order: 100% 1/1 [00:35<00:00, 35.56s/it]\n",
            "Processing PDFs: 100% 2/2 [01:45<00:00, 52.60s/pdf] \n"
          ]
        }
      ]
    },
    {
      "cell_type": "code",
      "source": [
        "import subprocess\n",
        "import logging\n",
        "\n",
        "def run_marker(input_folder, output_folder):\n",
        "    command = f\"marker {input_folder} {output_folder} --workers 4\"\n",
        "\n",
        "    subprocess.run(command, shell=True, capture_output=True, text=True)"
      ],
      "metadata": {
        "id": "GIVDJCD-lFF3"
      },
      "execution_count": 8,
      "outputs": []
    },
    {
      "cell_type": "code",
      "source": [
        "run_marker(\"./\", './')"
      ],
      "metadata": {
        "id": "7denrjeIlTGA"
      },
      "execution_count": 9,
      "outputs": []
    },
    {
      "cell_type": "code",
      "source": [
        "def read_markdown_files(folder):\n",
        "    markdown_files = []\n",
        "    for subdir in folder.iterdir():\n",
        "        if subdir.is_dir():\n",
        "            for md_file in subdir.glob(\"*.md\"):\n",
        "                with open(md_file, 'r') as f:\n",
        "                    content = f.read()\n",
        "                    markdown_files.append((md_file.name, content))\n",
        "    return markdown_files"
      ],
      "metadata": {
        "id": "6--DuVxNnNsv"
      },
      "execution_count": 14,
      "outputs": []
    },
    {
      "cell_type": "code",
      "source": [
        "data = read_markdown_files('./')\n",
        "\n",
        "print(data)"
      ],
      "metadata": {
        "collapsed": true,
        "id": "A7UZnT61nck7",
        "outputId": "bcb4de8c-13ca-4aa2-afe9-8eac99eb5084",
        "colab": {
          "base_uri": "https://localhost:8080/",
          "height": 305
        }
      },
      "execution_count": 15,
      "outputs": [
        {
          "output_type": "error",
          "ename": "AttributeError",
          "evalue": "'str' object has no attribute 'iterdir'",
          "traceback": [
            "\u001b[0;31m---------------------------------------------------------------------------\u001b[0m",
            "\u001b[0;31mAttributeError\u001b[0m                            Traceback (most recent call last)",
            "\u001b[0;32m<ipython-input-15-c1beaa522ac6>\u001b[0m in \u001b[0;36m<cell line: 1>\u001b[0;34m()\u001b[0m\n\u001b[0;32m----> 1\u001b[0;31m \u001b[0mdata\u001b[0m \u001b[0;34m=\u001b[0m \u001b[0mread_markdown_files\u001b[0m\u001b[0;34m(\u001b[0m\u001b[0;34m'./'\u001b[0m\u001b[0;34m)\u001b[0m\u001b[0;34m\u001b[0m\u001b[0;34m\u001b[0m\u001b[0m\n\u001b[0m\u001b[1;32m      2\u001b[0m \u001b[0;34m\u001b[0m\u001b[0m\n\u001b[1;32m      3\u001b[0m \u001b[0mprint\u001b[0m\u001b[0;34m(\u001b[0m\u001b[0mdata\u001b[0m\u001b[0;34m)\u001b[0m\u001b[0;34m\u001b[0m\u001b[0;34m\u001b[0m\u001b[0m\n",
            "\u001b[0;32m<ipython-input-14-2fa31d268382>\u001b[0m in \u001b[0;36mread_markdown_files\u001b[0;34m(folder)\u001b[0m\n\u001b[1;32m      1\u001b[0m \u001b[0;32mdef\u001b[0m \u001b[0mread_markdown_files\u001b[0m\u001b[0;34m(\u001b[0m\u001b[0mfolder\u001b[0m\u001b[0;34m)\u001b[0m\u001b[0;34m:\u001b[0m\u001b[0;34m\u001b[0m\u001b[0;34m\u001b[0m\u001b[0m\n\u001b[1;32m      2\u001b[0m     \u001b[0mmarkdown_files\u001b[0m \u001b[0;34m=\u001b[0m \u001b[0;34m[\u001b[0m\u001b[0;34m]\u001b[0m\u001b[0;34m\u001b[0m\u001b[0;34m\u001b[0m\u001b[0m\n\u001b[0;32m----> 3\u001b[0;31m     \u001b[0;32mfor\u001b[0m \u001b[0msubdir\u001b[0m \u001b[0;32min\u001b[0m \u001b[0mfolder\u001b[0m\u001b[0;34m.\u001b[0m\u001b[0miterdir\u001b[0m\u001b[0;34m(\u001b[0m\u001b[0;34m)\u001b[0m\u001b[0;34m:\u001b[0m\u001b[0;34m\u001b[0m\u001b[0;34m\u001b[0m\u001b[0m\n\u001b[0m\u001b[1;32m      4\u001b[0m         \u001b[0;32mif\u001b[0m \u001b[0msubdir\u001b[0m\u001b[0;34m.\u001b[0m\u001b[0mis_dir\u001b[0m\u001b[0;34m(\u001b[0m\u001b[0;34m)\u001b[0m\u001b[0;34m:\u001b[0m\u001b[0;34m\u001b[0m\u001b[0;34m\u001b[0m\u001b[0m\n\u001b[1;32m      5\u001b[0m             \u001b[0;32mfor\u001b[0m \u001b[0mmd_file\u001b[0m \u001b[0;32min\u001b[0m \u001b[0msubdir\u001b[0m\u001b[0;34m.\u001b[0m\u001b[0mglob\u001b[0m\u001b[0;34m(\u001b[0m\u001b[0;34m\"*.md\"\u001b[0m\u001b[0;34m)\u001b[0m\u001b[0;34m:\u001b[0m\u001b[0;34m\u001b[0m\u001b[0;34m\u001b[0m\u001b[0m\n",
            "\u001b[0;31mAttributeError\u001b[0m: 'str' object has no attribute 'iterdir'"
          ]
        }
      ]
    },
    {
      "source": [
        "from pathlib import Path\n",
        "\n",
        "def read_markdown_files(folder):\n",
        "    # Convert the folder string to a Path object\n",
        "    folder_path = Path(folder)\n",
        "\n",
        "    markdown_files = []\n",
        "    for subdir in folder_path.iterdir(): # Use iterdir() on Path object\n",
        "        if subdir.is_dir():\n",
        "            for md_file in subdir.glob(\"*.md\"):\n",
        "                with open(md_file, 'r') as f:\n",
        "                    content = f.read()\n",
        "                    markdown_files.append((md_file.name, content))\n",
        "    return markdown_files\n",
        "\n",
        "data = read_markdown_files('./')\n",
        "\n",
        "print(data)"
      ],
      "cell_type": "code",
      "metadata": {
        "id": "N_8vOZqJoFN0",
        "outputId": "2fa4a979-37aa-4ee2-cf88-b67bb5f6a31b",
        "colab": {
          "base_uri": "https://localhost:8080/"
        }
      },
      "execution_count": 16,
      "outputs": [
        {
          "output_type": "stream",
          "name": "stdout",
          "text": [
            "[('Taofiq Resume.md', \"Taofiq **Sulayman**\\nSoftware **Developer**\\n(+234) **8139363144** Email: **sulaymantaofiq@gmail.com** Github: **https://github.com/taofiqsulayman**\\n\\n## Working **Experience**\\n\\nFrontend Software Engineer | Dufuna Limited, Lagos, Nigeria (Jan 2024 - *Present)* Collaborate in a cross-functional team to develop a SaaS product (CareSaas) tailored for care home management in the UK, utilizing JavaScript, React JS, TypeScript, and Agile **methodologies.** Frontend Software Engineer | Dufuna Learning, Lagos, Nigeria (Feb 2023 - Jan *2024)* Optimized data fetching and resolved access issues, resulting in a 15% increase in scholar **productivity.** Refactored key components and pages, improving web application performance by 10%, utilizing JavaScript, Vue JS, VueX, Bootstrap CSS, and Agile **methodologies.** Software Engineer | MaibornWolff GmbH, Munich, Germany (Nov 2022 - Jan *2023)* Developed core components for the Ojemba Questionnaire flow, ensuring a seamless user experience with React JS, TypeScript, Tailwind CSS, AWS Amplify, and other relevant **technologies.** Software Engineer | MaibornWolff GmbH, Munich, Germany (Sep 2022 - Nov *2022)* Implemented core features for the Kindl Pipe-Burst web app, significantly increasing worker productivity by 30%. **These** features included time logging, note taking, voice recordings, location tagging, media attachments, progress **tracking,** admin views, and PDF job **summaries.** Leveraged AWS Amplify services for data models, user authentication, and file storage, employing React JS, **TypeScript,** Chakra UI, AWS Amplify, and Agile **methodologies.**\\n\\n## Projects\\n\\nMovie App, Demo, *Github*\\n- Developed a movie listing app that allows users to see featured movies, check trending movies, popular and upcoming movies, coupled with the ability to search for **movies.**\\n- Integrated the movie database (TMDb) API which provides the app's **content.** - Utilized: React, material UI, Styled Components and CSS to create the **app.**\\nStore App, Demo, *Github*\\n- Developed a product listing app that allows users to browse products, search for products, and leave **reviews.** - Integrated Fakestore API which provides the content for the app - Utilized: React, Redux, React Router, Chakra UI, and CSS to create the **app.**\\nSKILLS\\nLanguages: HTML, CSS, JavaScript (React), Java (Spring Framework), **Python** Knowledge of: Web development, Version Control (Git), API **integrations.** Obafemi Awolowo University, Osun, Nigeria - MSc. *Microbiology.*\\n2019- **2022**\\nObafemi Awolowo University, Osun, Nigeria - BSc. *Microbiology.*\\n2012- 2016\"), ('table.md', '# Example Table This Is An Example Of A Data Table.\\n\\n| Results                         |                 |                    |          |                   |                 |\\n|---------------------------------|-----------------|--------------------|----------|-------------------|-----------------|\\n| Ballots  Incomplete/ Terminated |                 |                    |          |                   |                 |\\n| Disability  Category            | Participants    | Ballots  Completed | Accuracy | Time to  complete |                 |\\n| Blind                           | 5               | 1                  | 4        | 34.5%, n=1        | 1199 sec, n=1   |\\n| Low Vision                      | 5               | 2                  | 3        | 98.3% n=2         | 1716 sec, n=3   |\\n| (97.7%, n=3)                    | (1934 sec, n=2) |                    |          |                   |                 |\\n| Dexterity                       | 5               | 4                  | 1        | 98.3%, n=4        | 1672.1 sec, n=4 |\\n| Mobility                        | 3               | 3                  | 0        | 95.4%, n=3        | 1416 sec, n=3   |\\n'), ('README.md', \"This directory includes a few sample datasets to get you started.\\n\\n*   `california_housing_data*.csv` is California housing data from the 1990 US\\n    Census; more information is available at:\\n    https://developers.google.com/machine-learning/crash-course/california-housing-data-description\\n\\n*   `mnist_*.csv` is a small sample of the\\n    [MNIST database](https://en.wikipedia.org/wiki/MNIST_database), which is\\n    described at: http://yann.lecun.com/exdb/mnist/\\n\\n*   `anscombe.json` contains a copy of\\n    [Anscombe's quartet](https://en.wikipedia.org/wiki/Anscombe%27s_quartet); it\\n    was originally described in\\n\\n    Anscombe, F. J. (1973). 'Graphs in Statistical Analysis'. American\\n    Statistician. 27 (1): 17-21. JSTOR 2682899.\\n\\n    and our copy was prepared by the\\n    [vega_datasets library](https://github.com/altair-viz/vega_datasets/blob/4f67bdaad10f45e3549984e17e1b3088c731503d/vega_datasets/_data/anscombe.json).\\n\")]\n"
          ]
        }
      ]
    }
  ]
}